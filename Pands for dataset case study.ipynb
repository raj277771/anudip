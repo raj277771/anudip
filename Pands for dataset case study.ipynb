{
  "nbformat": 4,
  "nbformat_minor": 0,
  "metadata": {
    "colab": {
      "provenance": []
    },
    "kernelspec": {
      "name": "python3",
      "display_name": "Python 3"
    },
    "language_info": {
      "name": "python"
    }
  },
  "cells": [
    {
      "cell_type": "code",
      "source": [
        "import pandas as pd\n"
      ],
      "metadata": {
        "id": "Y1Rg-jrQ4Mp3"
      },
      "execution_count": null,
      "outputs": []
    },
    {
      "cell_type": "code",
      "source": [
        "data_df=pd.read_csv(\"/content/IMDb_Dataset.csv\")"
      ],
      "metadata": {
        "id": "33hSxy0YGfuK"
      },
      "execution_count": null,
      "outputs": []
    },
    {
      "cell_type": "code",
      "source": [
        "data_df"
      ],
      "metadata": {
        "colab": {
          "base_uri": "https://localhost:8080/",
          "height": 597
        },
        "id": "QKEPagyNGm6h",
        "outputId": "7ae88566-c870-43c6-e7dc-00ab0b68518a"
      },
      "execution_count": null,
      "outputs": [
        {
          "output_type": "execute_result",
          "data": {
            "text/plain": [
              "                                             Title  IMDb Rating  Year  \\\n",
              "0                                        Gladiator          8.5  2000   \n",
              "1    Mission: Impossible - Dead Reckoning Part One          7.7  2023   \n",
              "2             Rebel Moon - Part Two: The Scargiver          5.2  2024   \n",
              "3                             Inglourious Basterds          8.4  2009   \n",
              "4                                      Borderlands          7.1  2024   \n",
              "..                                             ...          ...   ...   \n",
              "395                            Mother of the Bride          4.8  2024   \n",
              "396                        Beetlejuice Beetlejuice          7.1  2024   \n",
              "397                                The Idea of You          6.4  2024   \n",
              "398                                             IF          6.7  2024   \n",
              "399                                   The Fall Guy          7.1  2024   \n",
              "\n",
              "    Certificates      Genre               Director  \\\n",
              "0              R     Action           Ridley Scott   \n",
              "1          PG-13     Action  Christopher McQuarrie   \n",
              "2          PG-13     Action            Zack Snyder   \n",
              "3              R  Adventure      Quentin Tarantino   \n",
              "4              R     Action               Eli Roth   \n",
              "..           ...        ...                    ...   \n",
              "395        TV-PG     Comedy            Mark Waters   \n",
              "396            R     Comedy             Tim Burton   \n",
              "397            R     Comedy      Michael Showalter   \n",
              "398           PG  Animation         John Krasinski   \n",
              "399        PG-13     Action           David Leitch   \n",
              "\n",
              "                                        Star Cast  MetaScore  \\\n",
              "0       David FranzoniJohn LoganWilliam Nicholson       67.0   \n",
              "1              Tom CruiseHayley AtwellVing Rhames       81.0   \n",
              "2             Zack SnyderKurt JohnstadShay Hatten       35.0   \n",
              "3                   Brad PittDiane KrugerEli Roth       69.0   \n",
              "4                             Eli RothJoe Crombie       66.9   \n",
              "..                                            ...        ...   \n",
              "395  Brooke ShieldsMiranda CosgroveBenjamin Bratt       39.0   \n",
              "396    Alfred GoughMiles MillarSeth Grahame-Smith       66.9   \n",
              "397     Anne HathawayNicholas GalitzineElla Rubin       67.0   \n",
              "398     Cailey FlemingRyan ReynoldsJohn Krasinski       46.0   \n",
              "399   Ryan GoslingEmily BluntAaron Taylor-Johnson       73.0   \n",
              "\n",
              "     Duration (minutes)  \n",
              "0                 155.0  \n",
              "1                 163.0  \n",
              "2                 122.0  \n",
              "3                 153.0  \n",
              "4                 116.3  \n",
              "..                  ...  \n",
              "395                88.0  \n",
              "396               116.3  \n",
              "397               115.0  \n",
              "398               104.0  \n",
              "399               126.0  \n",
              "\n",
              "[400 rows x 9 columns]"
            ],
            "text/html": [
              "\n",
              "  <div id=\"df-9eaaade7-f0d5-4fc5-a919-54ffac31b869\" class=\"colab-df-container\">\n",
              "    <div>\n",
              "<style scoped>\n",
              "    .dataframe tbody tr th:only-of-type {\n",
              "        vertical-align: middle;\n",
              "    }\n",
              "\n",
              "    .dataframe tbody tr th {\n",
              "        vertical-align: top;\n",
              "    }\n",
              "\n",
              "    .dataframe thead th {\n",
              "        text-align: right;\n",
              "    }\n",
              "</style>\n",
              "<table border=\"1\" class=\"dataframe\">\n",
              "  <thead>\n",
              "    <tr style=\"text-align: right;\">\n",
              "      <th></th>\n",
              "      <th>Title</th>\n",
              "      <th>IMDb Rating</th>\n",
              "      <th>Year</th>\n",
              "      <th>Certificates</th>\n",
              "      <th>Genre</th>\n",
              "      <th>Director</th>\n",
              "      <th>Star Cast</th>\n",
              "      <th>MetaScore</th>\n",
              "      <th>Duration (minutes)</th>\n",
              "    </tr>\n",
              "  </thead>\n",
              "  <tbody>\n",
              "    <tr>\n",
              "      <th>0</th>\n",
              "      <td>Gladiator</td>\n",
              "      <td>8.5</td>\n",
              "      <td>2000</td>\n",
              "      <td>R</td>\n",
              "      <td>Action</td>\n",
              "      <td>Ridley Scott</td>\n",
              "      <td>David FranzoniJohn LoganWilliam Nicholson</td>\n",
              "      <td>67.0</td>\n",
              "      <td>155.0</td>\n",
              "    </tr>\n",
              "    <tr>\n",
              "      <th>1</th>\n",
              "      <td>Mission: Impossible - Dead Reckoning Part One</td>\n",
              "      <td>7.7</td>\n",
              "      <td>2023</td>\n",
              "      <td>PG-13</td>\n",
              "      <td>Action</td>\n",
              "      <td>Christopher McQuarrie</td>\n",
              "      <td>Tom CruiseHayley AtwellVing Rhames</td>\n",
              "      <td>81.0</td>\n",
              "      <td>163.0</td>\n",
              "    </tr>\n",
              "    <tr>\n",
              "      <th>2</th>\n",
              "      <td>Rebel Moon - Part Two: The Scargiver</td>\n",
              "      <td>5.2</td>\n",
              "      <td>2024</td>\n",
              "      <td>PG-13</td>\n",
              "      <td>Action</td>\n",
              "      <td>Zack Snyder</td>\n",
              "      <td>Zack SnyderKurt JohnstadShay Hatten</td>\n",
              "      <td>35.0</td>\n",
              "      <td>122.0</td>\n",
              "    </tr>\n",
              "    <tr>\n",
              "      <th>3</th>\n",
              "      <td>Inglourious Basterds</td>\n",
              "      <td>8.4</td>\n",
              "      <td>2009</td>\n",
              "      <td>R</td>\n",
              "      <td>Adventure</td>\n",
              "      <td>Quentin Tarantino</td>\n",
              "      <td>Brad PittDiane KrugerEli Roth</td>\n",
              "      <td>69.0</td>\n",
              "      <td>153.0</td>\n",
              "    </tr>\n",
              "    <tr>\n",
              "      <th>4</th>\n",
              "      <td>Borderlands</td>\n",
              "      <td>7.1</td>\n",
              "      <td>2024</td>\n",
              "      <td>R</td>\n",
              "      <td>Action</td>\n",
              "      <td>Eli Roth</td>\n",
              "      <td>Eli RothJoe Crombie</td>\n",
              "      <td>66.9</td>\n",
              "      <td>116.3</td>\n",
              "    </tr>\n",
              "    <tr>\n",
              "      <th>...</th>\n",
              "      <td>...</td>\n",
              "      <td>...</td>\n",
              "      <td>...</td>\n",
              "      <td>...</td>\n",
              "      <td>...</td>\n",
              "      <td>...</td>\n",
              "      <td>...</td>\n",
              "      <td>...</td>\n",
              "      <td>...</td>\n",
              "    </tr>\n",
              "    <tr>\n",
              "      <th>395</th>\n",
              "      <td>Mother of the Bride</td>\n",
              "      <td>4.8</td>\n",
              "      <td>2024</td>\n",
              "      <td>TV-PG</td>\n",
              "      <td>Comedy</td>\n",
              "      <td>Mark Waters</td>\n",
              "      <td>Brooke ShieldsMiranda CosgroveBenjamin Bratt</td>\n",
              "      <td>39.0</td>\n",
              "      <td>88.0</td>\n",
              "    </tr>\n",
              "    <tr>\n",
              "      <th>396</th>\n",
              "      <td>Beetlejuice Beetlejuice</td>\n",
              "      <td>7.1</td>\n",
              "      <td>2024</td>\n",
              "      <td>R</td>\n",
              "      <td>Comedy</td>\n",
              "      <td>Tim Burton</td>\n",
              "      <td>Alfred GoughMiles MillarSeth Grahame-Smith</td>\n",
              "      <td>66.9</td>\n",
              "      <td>116.3</td>\n",
              "    </tr>\n",
              "    <tr>\n",
              "      <th>397</th>\n",
              "      <td>The Idea of You</td>\n",
              "      <td>6.4</td>\n",
              "      <td>2024</td>\n",
              "      <td>R</td>\n",
              "      <td>Comedy</td>\n",
              "      <td>Michael Showalter</td>\n",
              "      <td>Anne HathawayNicholas GalitzineElla Rubin</td>\n",
              "      <td>67.0</td>\n",
              "      <td>115.0</td>\n",
              "    </tr>\n",
              "    <tr>\n",
              "      <th>398</th>\n",
              "      <td>IF</td>\n",
              "      <td>6.7</td>\n",
              "      <td>2024</td>\n",
              "      <td>PG</td>\n",
              "      <td>Animation</td>\n",
              "      <td>John Krasinski</td>\n",
              "      <td>Cailey FlemingRyan ReynoldsJohn Krasinski</td>\n",
              "      <td>46.0</td>\n",
              "      <td>104.0</td>\n",
              "    </tr>\n",
              "    <tr>\n",
              "      <th>399</th>\n",
              "      <td>The Fall Guy</td>\n",
              "      <td>7.1</td>\n",
              "      <td>2024</td>\n",
              "      <td>PG-13</td>\n",
              "      <td>Action</td>\n",
              "      <td>David Leitch</td>\n",
              "      <td>Ryan GoslingEmily BluntAaron Taylor-Johnson</td>\n",
              "      <td>73.0</td>\n",
              "      <td>126.0</td>\n",
              "    </tr>\n",
              "  </tbody>\n",
              "</table>\n",
              "<p>400 rows × 9 columns</p>\n",
              "</div>\n",
              "    <div class=\"colab-df-buttons\">\n",
              "\n",
              "  <div class=\"colab-df-container\">\n",
              "    <button class=\"colab-df-convert\" onclick=\"convertToInteractive('df-9eaaade7-f0d5-4fc5-a919-54ffac31b869')\"\n",
              "            title=\"Convert this dataframe to an interactive table.\"\n",
              "            style=\"display:none;\">\n",
              "\n",
              "  <svg xmlns=\"http://www.w3.org/2000/svg\" height=\"24px\" viewBox=\"0 -960 960 960\">\n",
              "    <path d=\"M120-120v-720h720v720H120Zm60-500h600v-160H180v160Zm220 220h160v-160H400v160Zm0 220h160v-160H400v160ZM180-400h160v-160H180v160Zm440 0h160v-160H620v160ZM180-180h160v-160H180v160Zm440 0h160v-160H620v160Z\"/>\n",
              "  </svg>\n",
              "    </button>\n",
              "\n",
              "  <style>\n",
              "    .colab-df-container {\n",
              "      display:flex;\n",
              "      gap: 12px;\n",
              "    }\n",
              "\n",
              "    .colab-df-convert {\n",
              "      background-color: #E8F0FE;\n",
              "      border: none;\n",
              "      border-radius: 50%;\n",
              "      cursor: pointer;\n",
              "      display: none;\n",
              "      fill: #1967D2;\n",
              "      height: 32px;\n",
              "      padding: 0 0 0 0;\n",
              "      width: 32px;\n",
              "    }\n",
              "\n",
              "    .colab-df-convert:hover {\n",
              "      background-color: #E2EBFA;\n",
              "      box-shadow: 0px 1px 2px rgba(60, 64, 67, 0.3), 0px 1px 3px 1px rgba(60, 64, 67, 0.15);\n",
              "      fill: #174EA6;\n",
              "    }\n",
              "\n",
              "    .colab-df-buttons div {\n",
              "      margin-bottom: 4px;\n",
              "    }\n",
              "\n",
              "    [theme=dark] .colab-df-convert {\n",
              "      background-color: #3B4455;\n",
              "      fill: #D2E3FC;\n",
              "    }\n",
              "\n",
              "    [theme=dark] .colab-df-convert:hover {\n",
              "      background-color: #434B5C;\n",
              "      box-shadow: 0px 1px 3px 1px rgba(0, 0, 0, 0.15);\n",
              "      filter: drop-shadow(0px 1px 2px rgba(0, 0, 0, 0.3));\n",
              "      fill: #FFFFFF;\n",
              "    }\n",
              "  </style>\n",
              "\n",
              "    <script>\n",
              "      const buttonEl =\n",
              "        document.querySelector('#df-9eaaade7-f0d5-4fc5-a919-54ffac31b869 button.colab-df-convert');\n",
              "      buttonEl.style.display =\n",
              "        google.colab.kernel.accessAllowed ? 'block' : 'none';\n",
              "\n",
              "      async function convertToInteractive(key) {\n",
              "        const element = document.querySelector('#df-9eaaade7-f0d5-4fc5-a919-54ffac31b869');\n",
              "        const dataTable =\n",
              "          await google.colab.kernel.invokeFunction('convertToInteractive',\n",
              "                                                    [key], {});\n",
              "        if (!dataTable) return;\n",
              "\n",
              "        const docLinkHtml = 'Like what you see? Visit the ' +\n",
              "          '<a target=\"_blank\" href=https://colab.research.google.com/notebooks/data_table.ipynb>data table notebook</a>'\n",
              "          + ' to learn more about interactive tables.';\n",
              "        element.innerHTML = '';\n",
              "        dataTable['output_type'] = 'display_data';\n",
              "        await google.colab.output.renderOutput(dataTable, element);\n",
              "        const docLink = document.createElement('div');\n",
              "        docLink.innerHTML = docLinkHtml;\n",
              "        element.appendChild(docLink);\n",
              "      }\n",
              "    </script>\n",
              "  </div>\n",
              "\n",
              "\n",
              "<div id=\"df-dadfcd6f-c519-4ad1-a624-fcbd65d213e1\">\n",
              "  <button class=\"colab-df-quickchart\" onclick=\"quickchart('df-dadfcd6f-c519-4ad1-a624-fcbd65d213e1')\"\n",
              "            title=\"Suggest charts\"\n",
              "            style=\"display:none;\">\n",
              "\n",
              "<svg xmlns=\"http://www.w3.org/2000/svg\" height=\"24px\"viewBox=\"0 0 24 24\"\n",
              "     width=\"24px\">\n",
              "    <g>\n",
              "        <path d=\"M19 3H5c-1.1 0-2 .9-2 2v14c0 1.1.9 2 2 2h14c1.1 0 2-.9 2-2V5c0-1.1-.9-2-2-2zM9 17H7v-7h2v7zm4 0h-2V7h2v10zm4 0h-2v-4h2v4z\"/>\n",
              "    </g>\n",
              "</svg>\n",
              "  </button>\n",
              "\n",
              "<style>\n",
              "  .colab-df-quickchart {\n",
              "      --bg-color: #E8F0FE;\n",
              "      --fill-color: #1967D2;\n",
              "      --hover-bg-color: #E2EBFA;\n",
              "      --hover-fill-color: #174EA6;\n",
              "      --disabled-fill-color: #AAA;\n",
              "      --disabled-bg-color: #DDD;\n",
              "  }\n",
              "\n",
              "  [theme=dark] .colab-df-quickchart {\n",
              "      --bg-color: #3B4455;\n",
              "      --fill-color: #D2E3FC;\n",
              "      --hover-bg-color: #434B5C;\n",
              "      --hover-fill-color: #FFFFFF;\n",
              "      --disabled-bg-color: #3B4455;\n",
              "      --disabled-fill-color: #666;\n",
              "  }\n",
              "\n",
              "  .colab-df-quickchart {\n",
              "    background-color: var(--bg-color);\n",
              "    border: none;\n",
              "    border-radius: 50%;\n",
              "    cursor: pointer;\n",
              "    display: none;\n",
              "    fill: var(--fill-color);\n",
              "    height: 32px;\n",
              "    padding: 0;\n",
              "    width: 32px;\n",
              "  }\n",
              "\n",
              "  .colab-df-quickchart:hover {\n",
              "    background-color: var(--hover-bg-color);\n",
              "    box-shadow: 0 1px 2px rgba(60, 64, 67, 0.3), 0 1px 3px 1px rgba(60, 64, 67, 0.15);\n",
              "    fill: var(--button-hover-fill-color);\n",
              "  }\n",
              "\n",
              "  .colab-df-quickchart-complete:disabled,\n",
              "  .colab-df-quickchart-complete:disabled:hover {\n",
              "    background-color: var(--disabled-bg-color);\n",
              "    fill: var(--disabled-fill-color);\n",
              "    box-shadow: none;\n",
              "  }\n",
              "\n",
              "  .colab-df-spinner {\n",
              "    border: 2px solid var(--fill-color);\n",
              "    border-color: transparent;\n",
              "    border-bottom-color: var(--fill-color);\n",
              "    animation:\n",
              "      spin 1s steps(1) infinite;\n",
              "  }\n",
              "\n",
              "  @keyframes spin {\n",
              "    0% {\n",
              "      border-color: transparent;\n",
              "      border-bottom-color: var(--fill-color);\n",
              "      border-left-color: var(--fill-color);\n",
              "    }\n",
              "    20% {\n",
              "      border-color: transparent;\n",
              "      border-left-color: var(--fill-color);\n",
              "      border-top-color: var(--fill-color);\n",
              "    }\n",
              "    30% {\n",
              "      border-color: transparent;\n",
              "      border-left-color: var(--fill-color);\n",
              "      border-top-color: var(--fill-color);\n",
              "      border-right-color: var(--fill-color);\n",
              "    }\n",
              "    40% {\n",
              "      border-color: transparent;\n",
              "      border-right-color: var(--fill-color);\n",
              "      border-top-color: var(--fill-color);\n",
              "    }\n",
              "    60% {\n",
              "      border-color: transparent;\n",
              "      border-right-color: var(--fill-color);\n",
              "    }\n",
              "    80% {\n",
              "      border-color: transparent;\n",
              "      border-right-color: var(--fill-color);\n",
              "      border-bottom-color: var(--fill-color);\n",
              "    }\n",
              "    90% {\n",
              "      border-color: transparent;\n",
              "      border-bottom-color: var(--fill-color);\n",
              "    }\n",
              "  }\n",
              "</style>\n",
              "\n",
              "  <script>\n",
              "    async function quickchart(key) {\n",
              "      const quickchartButtonEl =\n",
              "        document.querySelector('#' + key + ' button');\n",
              "      quickchartButtonEl.disabled = true;  // To prevent multiple clicks.\n",
              "      quickchartButtonEl.classList.add('colab-df-spinner');\n",
              "      try {\n",
              "        const charts = await google.colab.kernel.invokeFunction(\n",
              "            'suggestCharts', [key], {});\n",
              "      } catch (error) {\n",
              "        console.error('Error during call to suggestCharts:', error);\n",
              "      }\n",
              "      quickchartButtonEl.classList.remove('colab-df-spinner');\n",
              "      quickchartButtonEl.classList.add('colab-df-quickchart-complete');\n",
              "    }\n",
              "    (() => {\n",
              "      let quickchartButtonEl =\n",
              "        document.querySelector('#df-dadfcd6f-c519-4ad1-a624-fcbd65d213e1 button');\n",
              "      quickchartButtonEl.style.display =\n",
              "        google.colab.kernel.accessAllowed ? 'block' : 'none';\n",
              "    })();\n",
              "  </script>\n",
              "</div>\n",
              "\n",
              "  <div id=\"id_99482d88-f9f4-45fd-91ac-dfe9bf89ea11\">\n",
              "    <style>\n",
              "      .colab-df-generate {\n",
              "        background-color: #E8F0FE;\n",
              "        border: none;\n",
              "        border-radius: 50%;\n",
              "        cursor: pointer;\n",
              "        display: none;\n",
              "        fill: #1967D2;\n",
              "        height: 32px;\n",
              "        padding: 0 0 0 0;\n",
              "        width: 32px;\n",
              "      }\n",
              "\n",
              "      .colab-df-generate:hover {\n",
              "        background-color: #E2EBFA;\n",
              "        box-shadow: 0px 1px 2px rgba(60, 64, 67, 0.3), 0px 1px 3px 1px rgba(60, 64, 67, 0.15);\n",
              "        fill: #174EA6;\n",
              "      }\n",
              "\n",
              "      [theme=dark] .colab-df-generate {\n",
              "        background-color: #3B4455;\n",
              "        fill: #D2E3FC;\n",
              "      }\n",
              "\n",
              "      [theme=dark] .colab-df-generate:hover {\n",
              "        background-color: #434B5C;\n",
              "        box-shadow: 0px 1px 3px 1px rgba(0, 0, 0, 0.15);\n",
              "        filter: drop-shadow(0px 1px 2px rgba(0, 0, 0, 0.3));\n",
              "        fill: #FFFFFF;\n",
              "      }\n",
              "    </style>\n",
              "    <button class=\"colab-df-generate\" onclick=\"generateWithVariable('data_df')\"\n",
              "            title=\"Generate code using this dataframe.\"\n",
              "            style=\"display:none;\">\n",
              "\n",
              "  <svg xmlns=\"http://www.w3.org/2000/svg\" height=\"24px\"viewBox=\"0 0 24 24\"\n",
              "       width=\"24px\">\n",
              "    <path d=\"M7,19H8.4L18.45,9,17,7.55,7,17.6ZM5,21V16.75L18.45,3.32a2,2,0,0,1,2.83,0l1.4,1.43a1.91,1.91,0,0,1,.58,1.4,1.91,1.91,0,0,1-.58,1.4L9.25,21ZM18.45,9,17,7.55Zm-12,3A5.31,5.31,0,0,0,4.9,8.1,5.31,5.31,0,0,0,1,6.5,5.31,5.31,0,0,0,4.9,4.9,5.31,5.31,0,0,0,6.5,1,5.31,5.31,0,0,0,8.1,4.9,5.31,5.31,0,0,0,12,6.5,5.46,5.46,0,0,0,6.5,12Z\"/>\n",
              "  </svg>\n",
              "    </button>\n",
              "    <script>\n",
              "      (() => {\n",
              "      const buttonEl =\n",
              "        document.querySelector('#id_99482d88-f9f4-45fd-91ac-dfe9bf89ea11 button.colab-df-generate');\n",
              "      buttonEl.style.display =\n",
              "        google.colab.kernel.accessAllowed ? 'block' : 'none';\n",
              "\n",
              "      buttonEl.onclick = () => {\n",
              "        google.colab.notebook.generateWithVariable('data_df');\n",
              "      }\n",
              "      })();\n",
              "    </script>\n",
              "  </div>\n",
              "\n",
              "    </div>\n",
              "  </div>\n"
            ],
            "application/vnd.google.colaboratory.intrinsic+json": {
              "type": "dataframe",
              "variable_name": "data_df",
              "summary": "{\n  \"name\": \"data_df\",\n  \"rows\": 400,\n  \"fields\": [\n    {\n      \"column\": \"Title\",\n      \"properties\": {\n        \"dtype\": \"string\",\n        \"num_unique_values\": 251,\n        \"samples\": [\n          \"Midsommar\",\n          \"The Fifth Element\",\n          \"Arcadian\"\n        ],\n        \"semantic_type\": \"\",\n        \"description\": \"\"\n      }\n    },\n    {\n      \"column\": \"IMDb Rating\",\n      \"properties\": {\n        \"dtype\": \"number\",\n        \"std\": 0.9322513980536217,\n        \"min\": 3.9,\n        \"max\": 9.2,\n        \"num_unique_values\": 45,\n        \"samples\": [\n          5.0,\n          5.8,\n          5.9\n        ],\n        \"semantic_type\": \"\",\n        \"description\": \"\"\n      }\n    },\n    {\n      \"column\": \"Year\",\n      \"properties\": {\n        \"dtype\": \"number\",\n        \"std\": 13,\n        \"min\": 1939,\n        \"max\": 2025,\n        \"num_unique_values\": 47,\n        \"samples\": [\n          2018,\n          2002,\n          2019\n        ],\n        \"semantic_type\": \"\",\n        \"description\": \"\"\n      }\n    },\n    {\n      \"column\": \"Certificates\",\n      \"properties\": {\n        \"dtype\": \"category\",\n        \"num_unique_values\": 11,\n        \"samples\": [\n          \"Not Rated\",\n          \"R\",\n          \"16+\"\n        ],\n        \"semantic_type\": \"\",\n        \"description\": \"\"\n      }\n    },\n    {\n      \"column\": \"Genre\",\n      \"properties\": {\n        \"dtype\": \"category\",\n        \"num_unique_values\": 10,\n        \"samples\": [\n          \"Fantasy\",\n          \"Adventure\",\n          \"Biography\"\n        ],\n        \"semantic_type\": \"\",\n        \"description\": \"\"\n      }\n    },\n    {\n      \"column\": \"Director\",\n      \"properties\": {\n        \"dtype\": \"category\",\n        \"num_unique_values\": 199,\n        \"samples\": [\n          \"Antoine Fuqua\",\n          \"Jan de Bont\",\n          \"Andy Muschietti\"\n        ],\n        \"semantic_type\": \"\",\n        \"description\": \"\"\n      }\n    },\n    {\n      \"column\": \"Star Cast\",\n      \"properties\": {\n        \"dtype\": \"string\",\n        \"num_unique_values\": 247,\n        \"samples\": [\n          \"Mark BombackRick JaffaAmanda Silver\",\n          \"Luc BessonRobert Mark Kamen\",\n          \"Madelaine PetschRyan BownMatus Lajcak\"\n        ],\n        \"semantic_type\": \"\",\n        \"description\": \"\"\n      }\n    },\n    {\n      \"column\": \"MetaScore\",\n      \"properties\": {\n        \"dtype\": \"number\",\n        \"std\": 15.312005656692282,\n        \"min\": 26.0,\n        \"max\": 100.0,\n        \"num_unique_values\": 66,\n        \"samples\": [\n          89.0,\n          36.0,\n          67.0\n        ],\n        \"semantic_type\": \"\",\n        \"description\": \"\"\n      }\n    },\n    {\n      \"column\": \"Duration (minutes)\",\n      \"properties\": {\n        \"dtype\": \"number\",\n        \"std\": 21.36975745702159,\n        \"min\": 80.0,\n        \"max\": 206.0,\n        \"num_unique_values\": 79,\n        \"samples\": [\n          140.0,\n          155.0,\n          157.0\n        ],\n        \"semantic_type\": \"\",\n        \"description\": \"\"\n      }\n    }\n  ]\n}"
            }
          },
          "metadata": {},
          "execution_count": 3
        }
      ]
    },
    {
      "cell_type": "code",
      "source": [
        "data_df.columns"
      ],
      "metadata": {
        "colab": {
          "base_uri": "https://localhost:8080/"
        },
        "id": "zNYS6QEGHrUf",
        "outputId": "9892257b-b7b8-4d0a-b49f-f8481cfca51f"
      },
      "execution_count": null,
      "outputs": [
        {
          "output_type": "execute_result",
          "data": {
            "text/plain": [
              "Index(['Title', 'IMDb Rating', 'Year', 'Certificates', 'Genre', 'Director',\n",
              "       'Star Cast', 'MetaScore', 'Duration (minutes)'],\n",
              "      dtype='object')"
            ]
          },
          "metadata": {},
          "execution_count": 4
        }
      ]
    },
    {
      "cell_type": "code",
      "source": [
        "#Display count of each certificates\n",
        "data_df['Certificates'].value_counts()"
      ],
      "metadata": {
        "colab": {
          "base_uri": "https://localhost:8080/"
        },
        "id": "56pKgxWDHv8s",
        "outputId": "ac3a506e-1c01-4956-a7d0-a388872ed306"
      },
      "execution_count": null,
      "outputs": [
        {
          "output_type": "execute_result",
          "data": {
            "text/plain": [
              "Certificates\n",
              "R            183\n",
              "PG-13         96\n",
              "PG            93\n",
              "G             16\n",
              "Not Rated      4\n",
              "TV-G           2\n",
              "16+            2\n",
              "Approved       1\n",
              "TV-MA          1\n",
              "NC-17          1\n",
              "TV-PG          1\n",
              "Name: count, dtype: int64"
            ]
          },
          "metadata": {},
          "execution_count": 8
        }
      ]
    },
    {
      "cell_type": "code",
      "source": [
        "#plot above\n",
        "\n",
        "import matplotlib.pyplot as plt\n",
        "\n",
        "certificates_counts = data_df['Certificates'].value_counts()\n",
        "\n",
        "plt.figure(figsize=(10, 6))\n",
        "certificates_counts.plot(kind='bar')\n",
        "plt.title('Certificate Value Counts')\n",
        "plt.xlabel('Certificate')\n",
        "plt.ylabel('Count')\n",
        "plt.show()\n"
      ],
      "metadata": {
        "colab": {
          "base_uri": "https://localhost:8080/",
          "height": 620
        },
        "id": "8QrqbJ0BNlqf",
        "outputId": "7fd67d78-4e6b-4366-ac57-6ba25a081948"
      },
      "execution_count": null,
      "outputs": [
        {
          "output_type": "display_data",
          "data": {
            "text/plain": [
              "<Figure size 1000x600 with 1 Axes>"
            ],
            "image/png": "[encoded data removed]"
          },
          "metadata": {}
        }
      ]
    },
    {
      "cell_type": "code",
      "source": [
        "#Plot count of genre for each certificate\n",
        "\n",
        "data_df.groupby('Certificates')['Genre'].value_counts()"
      ],
      "metadata": {
        "id": "EthscpYjS85i",
        "colab": {
          "base_uri": "https://localhost:8080/"
        },
        "outputId": "8232b5ad-3f4a-498b-d3b3-8cd848f36f96"
      },
      "execution_count": null,
      "outputs": [
        {
          "output_type": "execute_result",
          "data": {
            "text/plain": [
              "Certificates  Genre    \n",
              "16+           Comedy        2\n",
              "Approved      Crime         1\n",
              "G             Animation    12\n",
              "              Adventure     4\n",
              "NC-17         Horror        1\n",
              "Not Rated     Action        2\n",
              "              Drama         1\n",
              "              Animation     1\n",
              "PG            Animation    72\n",
              "              Adventure    14\n",
              "              Action        3\n",
              "              Comedy        2\n",
              "              Drama         1\n",
              "              Crime         1\n",
              "PG-13         Action       63\n",
              "              Adventure    14\n",
              "              Horror        5\n",
              "              Drama         5\n",
              "              Fantasy       2\n",
              "              Comedy        2\n",
              "              Crime         2\n",
              "              Animation     2\n",
              "              Biography     1\n",
              "R             Action       68\n",
              "              Comedy       31\n",
              "              Crime        27\n",
              "              Horror       22\n",
              "              Drama        17\n",
              "              Animation     8\n",
              "              Biography     3\n",
              "              Fantasy       3\n",
              "              Adventure     3\n",
              "              Thriller      1\n",
              "TV-G          Action        2\n",
              "TV-MA         Horror        1\n",
              "TV-PG         Comedy        1\n",
              "Name: count, dtype: int64"
            ]
          },
          "metadata": {},
          "execution_count": 9
        }
      ]
    },
    {
      "cell_type": "code",
      "source": [
        "average_rating_r = data_df[data_df['Certificates'] == 'R']['IMDb Rating'].mean()\n",
        "#ask how this works\n",
        "print(\"Average Rating for genre R \", average_rating_r)\n",
        "\n",
        "average_rating_PG13 = data_df[data_df['Certificates'] == 'PG-13']['IMDb Rating'].mean()\n",
        "#ask how this works\n",
        "print(\"Average Rating for genre PG-13 \", average_rating_PG13)\n",
        "\n",
        "average_rating_PG= data_df[data_df['Certificates'] == 'PG']['IMDb Rating'].mean()\n",
        "#ask how this works\n",
        "print(\"Average Rating for genre PG \", average_rating_PG)\n",
        "\n",
        "average_rating_G = data_df[data_df['Certificates'] == 'G']['IMDb Rating'].mean()\n",
        "#ask how this works\n",
        "print(\"Average Rating for genre G \", average_rating_G)"
      ],
      "metadata": {
        "colab": {
          "base_uri": "https://localhost:8080/"
        },
        "id": "tZCph1iTWr7f",
        "outputId": "a97781d7-1835-4d91-d814-74ae1c1e665c"
      },
      "execution_count": null,
      "outputs": [
        {
          "output_type": "stream",
          "name": "stdout",
          "text": [
            "Average Rating for genre R  7.175409836065573\n",
            "Average Rating for genre PG-13  6.882291666666667\n",
            "Average Rating for genre PG  7.141935483870967\n",
            "Average Rating for genre G  7.999999999999999\n"
          ]
        }
      ]
    },
    {
      "cell_type": "code",
      "source": [
        "import matplotlib.pyplot as plt\n",
        "\n",
        "avg_rating = {\n",
        "    'R': 7.175409836065573,\n",
        "    'PG-13': 6.882291666666667,\n",
        "    'PG': 7.141935483870967,\n",
        "    'G': 7.999999999999999\n",
        "}\n",
        "\n",
        "# Prepare data for plotting\n",
        "certificates = list(avg_rating.keys())\n",
        "average_ratings = list(avg_rating.values())\n",
        "\n",
        "fig, ax = plt.subplots(figsize=(10, 6))\n",
        "ax.bar(certificates, average_ratings)\n",
        "ax.set_title('Average Rating for Each Certificate Type')\n",
        "ax.set_xlabel('Certificate Type')\n",
        "ax.set_ylabel('Average Rating')\n",
        "plt.show()\n"
      ],
      "metadata": {
        "colab": {
          "base_uri": "https://localhost:8080/",
          "height": 564
        },
        "id": "LKtrr9jZPr_8",
        "outputId": "783eb3ad-cd08-4f85-ed44-17c0005bdc6b"
      },
      "execution_count": null,
      "outputs": [
        {
          "output_type": "display_data",
          "data": {
            "text/plain": [
              "<Figure size 1000x600 with 1 Axes>"
            ],
            "image/png": "[encoded data removed]"
          },
          "metadata": {}
        }
      ]
    },
    {
      "cell_type": "code",
      "source": [
        "max_duration_r = data_df[data_df['Certificates'] == 'R']['Duration (minutes)'].max()\n",
        "#ask how this works\n",
        "print(\"Max Duration for genre R \", max_duration_r)\n",
        "\n",
        "max_duration_PG13 = data_df[data_df['Certificates'] == 'PG-13']['Duration (minutes)'].max()\n",
        "#ask how this works\n",
        "print(\"Max Duration for genre PG-13 \", max_duration_PG13)\n",
        "\n",
        "max_duration_PG= data_df[data_df['Certificates'] == 'PG']['Duration (minutes)'].max()\n",
        "#ask how this works\n",
        "print(\"Max Duration for genre PG \", max_duration_PG)\n",
        "\n",
        "max_duration_G = data_df[data_df['Certificates'] == 'G']['Duration (minutes)'].max()\n",
        "#ask how this works\n",
        "print(\"Max Duration for genre G \", max_duration_G)"
      ],
      "metadata": {
        "colab": {
          "base_uri": "https://localhost:8080/"
        },
        "id": "TwmQyJ8iXmy_",
        "outputId": "1823b5d3-279f-4aa2-fcc2-85c73896f46c"
      },
      "execution_count": null,
      "outputs": [
        {
          "output_type": "stream",
          "name": "stdout",
          "text": [
            "Max Duration for genre R  206.0\n",
            "Max Duration for genre PG-13  181.0\n",
            "Max Duration for genre PG  161.0\n",
            "Max Duration for genre G  116.0\n"
          ]
        }
      ]
    },
    {
      "cell_type": "code",
      "source": [
        "max_meta_r = data_df[data_df['Certificates'] == 'R']['MetaScore'].max()\n",
        "#ask how this works\n",
        "print(\"Max Meta Rating for genre R \",max_meta_r)\n",
        "\n",
        "max_meta_PG13 = data_df[data_df['Certificates'] == 'PG-13']['MetaScore'].max()\n",
        "#ask how this works\n",
        "print(\"Max Meta Rating for genre PG-13 \", max_meta_PG13)\n",
        "\n",
        "max_meta_PG= data_df[data_df['Certificates'] == 'PG']['MetaScore'].max()\n",
        "#ask how this works\n",
        "print(\"Max Meta Rating for genre PG \", max_meta_PG)\n",
        "\n",
        "max_meta_G = data_df[data_df['Certificates'] == 'G']['MetaScore'].max()\n",
        "#ask how this works\n",
        "print(\"Max Meta Rating for genre G \", max_meta_G)"
      ],
      "metadata": {
        "colab": {
          "base_uri": "https://localhost:8080/"
        },
        "id": "7v91EM7zY3Qj",
        "outputId": "1559df30-e493-4828-a455-41ec0aa8b310"
      },
      "execution_count": null,
      "outputs": [
        {
          "output_type": "stream",
          "name": "stdout",
          "text": [
            "Max Meta Rating for genre R  100.0\n",
            "Max Meta Rating for genre PG-13  92.0\n",
            "Max Meta Rating for genre PG  96.0\n",
            "Max Meta Rating for genre G  96.0\n"
          ]
        }
      ]
    },
    {
      "cell_type": "code",
      "source": [
        "\n",
        "# Provided maximum metascores for each certificate\n",
        "cert_max_metascore = {\n",
        "    'R': 100,\n",
        "    'PG-13': 92,\n",
        "    'PG': 96,\n",
        "    'G': 96\n",
        "}\n",
        "\n",
        "results = []\n",
        "\n",
        "for cert, max_score in cert_max_metascore.items():\n",
        "    result_movies = data_df[(data_df['Certificates'] == cert) & (data_df['MetaScore'] == max_score)]\n",
        "    results.append(result_movies[['Title', 'Star Cast']])\n",
        "\n",
        "\n",
        "# Print the concatenated DataFrame\n",
        "print(results)\n"
      ],
      "metadata": {
        "colab": {
          "base_uri": "https://localhost:8080/"
        },
        "id": "n0Krbj1HZZFc",
        "outputId": "f47bab26-25be-46f4-b529-58fd6f4d764b"
      },
      "execution_count": null,
      "outputs": [
        {
          "output_type": "stream",
          "name": "stdout",
          "text": [
            "[             Title                       Star Cast\n",
            "137  The Godfather  Mario PuzoFrancis Ford Coppola,                                                 Title  \\\n",
            "15  The Lord of the Rings: The Fellowship of the Ring   \n",
            "\n",
            "                                  Star Cast  \n",
            "15  J.R.R. TolkienFran WalshPhilippa Boyens  ,              Title       Star Cast\n",
            "86   Spirited Away  Hayao Miyazaki\n",
            "280  Spirited Away  Hayao Miyazaki,            Title                               Star Cast\n",
            "58     Toy Story  John LasseterPete DocterAndrew Stanton\n",
            "75   Ratatouille      Brad BirdJan PinkavaJim Capobianco\n",
            "264  Ratatouille      Brad BirdJan PinkavaJim Capobianco]\n"
          ]
        }
      ]
    },
    {
      "cell_type": "code",
      "source": [
        "\n",
        "certificate_types = ['R', 'PG-13', 'PG', 'G']\n",
        "\n",
        "most_occurred_directors = {}\n",
        "\n",
        "for cert in certificate_types:\n",
        "    filtered_data = data_df[data_df['Certificates'] == cert]\n",
        "\n",
        "    director_counts = filtered_data['Director'].value_counts()\n",
        "\n",
        "    most_occurred_director = director_counts.idxmax()\n",
        "\n",
        "    most_occurred_directors[cert] = most_occurred_director\n",
        "\n",
        "\n",
        "for cert, director in most_occurred_directors.items():\n",
        "    print(f\"Most occurred director in genre {cert}: {director}\")\n"
      ],
      "metadata": {
        "colab": {
          "base_uri": "https://localhost:8080/"
        },
        "id": "IsfBYzfubPIQ",
        "outputId": "be8cd95a-40b4-4982-b71f-10daa2ea9621"
      },
      "execution_count": null,
      "outputs": [
        {
          "output_type": "stream",
          "name": "stdout",
          "text": [
            "Most occurred director in genre R: George Miller\n",
            "Most occurred director in genre PG-13: Matt Reeves\n",
            "Most occurred director in genre PG: Pete Docter\n",
            "Most occurred director in genre G: Andrew Stanton\n"
          ]
        }
      ]
    },
    {
      "cell_type": "code",
      "source": [],
      "metadata": {
        "id": "Dhbw3qQDYFyW"
      },
      "execution_count": null,
      "outputs": []
    }
  ]
}
